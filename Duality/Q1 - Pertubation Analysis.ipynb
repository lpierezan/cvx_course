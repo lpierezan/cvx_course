{
 "cells": [
  {
   "cell_type": "code",
   "execution_count": 1,
   "metadata": {},
   "outputs": [],
   "source": [
    "import numpy as np\n",
    "import matplotlib.pyplot as plt\n",
    "import cvxpy as cp\n",
    "import matplotlib\n",
    "\n",
    "%matplotlib inline"
   ]
  },
  {
   "cell_type": "code",
   "execution_count": 2,
   "metadata": {},
   "outputs": [],
   "source": [
    "P = np.array([  [1, -1/2], \n",
    "                [-1/2, 2]])\n",
    "\n",
    "q = np.array([-1, 0])\n",
    "\n",
    "x = cp.Variable(2)\n",
    "\n",
    "obj = cp.quad_form(x,P) + q.T @ x\n",
    "u = cp.Parameter(2)\n",
    "A = np.array([  [1,2],\n",
    "                [1,-4],\n",
    "                [1,1]])\n",
    "\n",
    "constraints = [\n",
    "    A[0] @ x <= u[0],\n",
    "    A[1] @ x <= u[1],\n",
    "    A[2] @ x >= -5\n",
    "]\n",
    "\n",
    "prob = cp.Problem(cp.Minimize(obj), constraints=constraints)\n"
   ]
  },
  {
   "cell_type": "code",
   "execution_count": 3,
   "metadata": {},
   "outputs": [
    {
     "name": "stdout",
     "output_type": "stream",
     "text": [
      "prob value: 8.222222222222223\n",
      "primal optimal [-2.33333333  0.16666667]\n",
      "dual optimal: [3.38888889 2.44444444 0.        ]\n"
     ]
    }
   ],
   "source": [
    "# (a)\n",
    "u.value = np.array([-2,-3])\n",
    "prob.solve()\n",
    "assert prob.status == cp.OPTIMAL\n",
    "print('prob value:', prob.value)\n",
    "lS = np.array([c.dual_value for c in constraints])\n",
    "xS = np.array(x.value)\n",
    "print('primal optimal', xS)\n",
    "print('dual optimal:', lS)"
   ]
  },
  {
   "cell_type": "code",
   "execution_count": 4,
   "metadata": {},
   "outputs": [
    {
     "name": "stdout",
     "output_type": "stream",
     "text": [
      "Checking KKT\n",
      "L grad [0. 0.]\n",
      "KKT ok\n"
     ]
    }
   ],
   "source": [
    "# Check KKT\n",
    "print('Checking KKT')\n",
    "# primal feasible\n",
    "assert np.array([c.value() for c in constraints]).all()\n",
    "# dual feasible\n",
    "assert (lS >= 0).all()\n",
    "# comp. slackness\n",
    "f = [c.expr.value for c in constraints]\n",
    "assert np.isclose(lS @ f , 0)\n",
    "# grad_x L(xS,lS) = 0\n",
    "L_grad = 2*(P @ xS) + q + A.T @ lS\n",
    "print('L grad', L_grad)\n",
    "assert np.isclose(L_grad, 0).all()\n",
    "print('KKT ok')"
   ]
  },
  {
   "cell_type": "code",
   "execution_count": 5,
   "metadata": {},
   "outputs": [
    {
     "name": "stdout",
     "output_type": "stream",
     "text": [
      "x2: 0.17\n",
      "lambda3: 0.0\n"
     ]
    }
   ],
   "source": [
    "print('x2:', round(xS[1], 2))\n",
    "print('lambda3:', round(lS[2],2))"
   ]
  },
  {
   "cell_type": "code",
   "execution_count": 6,
   "metadata": {},
   "outputs": [
    {
     "name": "stdout",
     "output_type": "stream",
     "text": [
      "Pertubation table\n",
      "d1 0 d2 0 p_pred 8.222222222222223 p_exact 8.222222222222229 exact - pred:5.329070518200751e-15\n",
      "d1 0 d2 -0.1 p_pred 8.466666666666669 p_exact 8.468885979233272 exact - pred:0.0022193125666039037\n",
      "d1 0 d2 0.1 p_pred 7.977777777777779 p_exact 7.980005615605602 exact - pred:0.0022278378278235422\n",
      "d1 -0.1 d2 0 p_pred 8.561111111111112 p_exact 8.565001721506773 exact - pred:0.003890610395661298\n",
      "d1 -0.1 d2 -0.1 p_pred 8.805555555555557 p_exact 8.815552599287349 exact - pred:0.009997043731791777\n",
      "d1 -0.1 d2 0.1 p_pred 8.316666666666668 p_exact 8.318894597656488 exact - pred:0.002227930989819882\n",
      "d1 0.1 d2 0 p_pred 7.883333333333335 p_exact 7.887210584052887 exact - pred:0.003877250719552805\n",
      "d1 0.1 d2 -0.1 p_pred 8.127777777777778 p_exact 8.129997137000323 exact - pred:0.0022193592225452363\n",
      "d1 0.1 d2 0.1 p_pred 7.638888888888889 p_exact 7.648894411332476 exact - pred:0.010005522443586656\n",
      "diff argsort [0 1 7 2 5 6 3 4 8]\n"
     ]
    }
   ],
   "source": [
    "# (b)\n",
    "print('Pertubation table')\n",
    "\n",
    "delta = [0, -0.1 ,0.1]\n",
    "p_org = prob.value\n",
    "dV = []\n",
    "for d1 in delta:\n",
    "    for d2 in delta:\n",
    "        u.value = np.array([-2 + d1, -3 + d2])\n",
    "        p_exact = prob.solve()\n",
    "        assert prob.status == cp.OPTIMAL\n",
    "        p_pred = p_org - lS.T @ [d1,d2,0]\n",
    "        assert p_pred <= p_exact\n",
    "        print(f'd1 {d1} d2 {d2} p_pred {p_pred} p_exact {p_exact} '\n",
    "                f'exact - pred:{p_exact - p_pred}'\n",
    "            )\n",
    "        dV.append((p_exact - p_pred))\n",
    "\n",
    "print('diff argsort', np.argsort(dV))"
   ]
  }
 ],
 "metadata": {
  "kernelspec": {
   "display_name": "Python 3",
   "language": "python",
   "name": "python3"
  },
  "language_info": {
   "codemirror_mode": {
    "name": "ipython",
    "version": 3
   },
   "file_extension": ".py",
   "mimetype": "text/x-python",
   "name": "python",
   "nbconvert_exporter": "python",
   "pygments_lexer": "ipython3",
   "version": "3.7.3"
  }
 },
 "nbformat": 4,
 "nbformat_minor": 4
}
